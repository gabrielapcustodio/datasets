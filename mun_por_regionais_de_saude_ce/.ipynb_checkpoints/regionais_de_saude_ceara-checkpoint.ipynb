{
 "cells": [
  {
   "cell_type": "markdown",
   "id": "dbdad59f",
   "metadata": {},
   "source": [
    "### Neste notebook, coletamos e salvamos em .csv os municípios do Ceará com os respectivos códigos do IBGE e as regionais de saúde do Estado às quais eles pertencem"
   ]
  },
  {
   "cell_type": "code",
   "execution_count": 36,
   "id": "c3f66132",
   "metadata": {},
   "outputs": [],
   "source": [
    "import pandas as pd"
   ]
  },
  {
   "cell_type": "code",
   "execution_count": 60,
   "id": "9ac95b1e",
   "metadata": {},
   "outputs": [],
   "source": [
    "df_municipios = pd.read_json('https://integrasus.saude.ce.gov.br/api/cobertura-vacinal-covid/cobertura-vacinal-mapa-bivalente?dataInicio=2023-02-27&dataFim=2023-07-12&tipoVacina=Bivalente&casos=&superintendencia=&ads=&municipio=&dose=Dose%201&indicadores=')\n",
    "df_municipios = df_municipios[['codMunicipio', 'municipio']]"
   ]
  },
  {
   "cell_type": "code",
   "execution_count": 61,
   "id": "733f961d",
   "metadata": {},
   "outputs": [],
   "source": [
    "df_regionais = pd.read_json('https://integrasus.saude.ce.gov.br/api/cobertura-vacinal-covid/filter-superintendencia?indicadores=&dose=Dose%201&municipio=&ads=&superintendencia=&tipoVacina=Bivalente&dataFim=2023-07-12&dataInicio=2023-02-27')"
   ]
  },
  {
   "cell_type": "code",
   "execution_count": 62,
   "id": "56fa1f2b",
   "metadata": {},
   "outputs": [],
   "source": [
    "df_regionais = df_regionais.apply(lambda x: x.str.replace(' ', '%20').str.replace('Ã', '%C3%83'))"
   ]
  },
  {
   "cell_type": "code",
   "execution_count": 63,
   "id": "295669cc",
   "metadata": {},
   "outputs": [
    {
     "data": {
      "text/html": [
       "<div>\n",
       "<style scoped>\n",
       "    .dataframe tbody tr th:only-of-type {\n",
       "        vertical-align: middle;\n",
       "    }\n",
       "\n",
       "    .dataframe tbody tr th {\n",
       "        vertical-align: top;\n",
       "    }\n",
       "\n",
       "    .dataframe thead th {\n",
       "        text-align: right;\n",
       "    }\n",
       "</style>\n",
       "<table border=\"1\" class=\"dataframe\">\n",
       "  <thead>\n",
       "    <tr style=\"text-align: right;\">\n",
       "      <th></th>\n",
       "      <th>superintendencia</th>\n",
       "    </tr>\n",
       "  </thead>\n",
       "  <tbody>\n",
       "    <tr>\n",
       "      <th>0</th>\n",
       "      <td>CARIRI</td>\n",
       "    </tr>\n",
       "    <tr>\n",
       "      <th>1</th>\n",
       "      <td>FORTALEZA</td>\n",
       "    </tr>\n",
       "    <tr>\n",
       "      <th>2</th>\n",
       "      <td>LITORAL%20LESTE/JAGUARIBE</td>\n",
       "    </tr>\n",
       "    <tr>\n",
       "      <th>3</th>\n",
       "      <td>SERT%C3%83O%20CENTRAL</td>\n",
       "    </tr>\n",
       "    <tr>\n",
       "      <th>4</th>\n",
       "      <td>SOBRAL</td>\n",
       "    </tr>\n",
       "  </tbody>\n",
       "</table>\n",
       "</div>"
      ],
      "text/plain": [
       "            superintendencia\n",
       "0                     CARIRI\n",
       "1                  FORTALEZA\n",
       "2  LITORAL%20LESTE/JAGUARIBE\n",
       "3      SERT%C3%83O%20CENTRAL\n",
       "4                     SOBRAL"
      ]
     },
     "execution_count": 63,
     "metadata": {},
     "output_type": "execute_result"
    }
   ],
   "source": [
    "df_regionais"
   ]
  },
  {
   "cell_type": "code",
   "execution_count": 64,
   "id": "f014bcef",
   "metadata": {},
   "outputs": [
    {
     "data": {
      "text/plain": [
       "['CARIRI',\n",
       " 'FORTALEZA',\n",
       " 'LITORAL%20LESTE/JAGUARIBE',\n",
       " 'SERT%C3%83O%20CENTRAL',\n",
       " 'SOBRAL']"
      ]
     },
     "execution_count": 64,
     "metadata": {},
     "output_type": "execute_result"
    }
   ],
   "source": [
    "regioes = df_regionais['superintendencia'].to_list()\n",
    "regioes"
   ]
  },
  {
   "cell_type": "code",
   "execution_count": 65,
   "id": "5834a56f",
   "metadata": {
    "scrolled": false
   },
   "outputs": [],
   "source": [
    "lista_regionais = []\n",
    "for regiao in regioes:\n",
    "    df_regiao = pd.read_json(f'https://integrasus.saude.ce.gov.br/api/cobertura-vacinal-covid/filter-municipio?ads=&superintendencia={regiao}&tipoVacina=Bivalente&dataFim=2023-07-12&dataInicio=2023-02-27')\n",
    "    df_regiao['regiao'] = regiao\n",
    "    lista_regionais.append(df_regiao)"
   ]
  },
  {
   "cell_type": "code",
   "execution_count": 66,
   "id": "a6a6485a",
   "metadata": {},
   "outputs": [],
   "source": [
    "df_municipios_regionais = pd.concat(lista_regionais)"
   ]
  },
  {
   "cell_type": "code",
   "execution_count": 67,
   "id": "47469ecc",
   "metadata": {},
   "outputs": [],
   "source": [
    "df_municipios_regionais = df_municipios_regionais.apply(lambda x: x.str.replace('%20', ' ').str.replace('SERT%C3%83', 'SERTÃ'))"
   ]
  },
  {
   "cell_type": "code",
   "execution_count": 68,
   "id": "feabc49a",
   "metadata": {},
   "outputs": [
    {
     "data": {
      "text/plain": [
       "array(['CARIRI', 'FORTALEZA', 'LITORAL LESTE/JAGUARIBE', 'SERTÃO CENTRAL',\n",
       "       'SOBRAL'], dtype=object)"
      ]
     },
     "execution_count": 68,
     "metadata": {},
     "output_type": "execute_result"
    }
   ],
   "source": [
    "df_municipios_regionais['regiao'].unique()"
   ]
  },
  {
   "cell_type": "code",
   "execution_count": 69,
   "id": "eb700b13",
   "metadata": {},
   "outputs": [],
   "source": [
    "df_final = df_municipios.merge(df_municipios_regionais, on='municipio')"
   ]
  },
  {
   "cell_type": "code",
   "execution_count": 70,
   "id": "305682d5",
   "metadata": {},
   "outputs": [],
   "source": [
    "df_final.to_csv('df_municipios_regionais.csv', index=False)"
   ]
  }
 ],
 "metadata": {
  "kernelspec": {
   "display_name": "Python 3 (ipykernel)",
   "language": "python",
   "name": "python3"
  },
  "language_info": {
   "codemirror_mode": {
    "name": "ipython",
    "version": 3
   },
   "file_extension": ".py",
   "mimetype": "text/x-python",
   "name": "python",
   "nbconvert_exporter": "python",
   "pygments_lexer": "ipython3",
   "version": "3.9.7"
  }
 },
 "nbformat": 4,
 "nbformat_minor": 5
}
